{
  "nbformat": 4,
  "nbformat_minor": 0,
  "metadata": {
    "colab": {
      "provenance": [],
      "authorship_tag": "ABX9TyPObyRw9G0eW/6KtwNlBHyG",
      "include_colab_link": true
    },
    "kernelspec": {
      "name": "python3",
      "display_name": "Python 3"
    },
    "language_info": {
      "name": "python"
    }
  },
  "cells": [
    {
      "cell_type": "markdown",
      "metadata": {
        "id": "view-in-github",
        "colab_type": "text"
      },
      "source": [
        "<a href=\"https://colab.research.google.com/github/Hubaib7/apna-hubaib/blob/main/Untitled0.ipynb\" target=\"_parent\"><img src=\"https://colab.research.google.com/assets/colab-badge.svg\" alt=\"Open In Colab\"/></a>"
      ]
    },
    {
      "cell_type": "code",
      "execution_count": 2,
      "metadata": {
        "id": "NfZVXKrXU7kF"
      },
      "outputs": [],
      "source": [
        "num = 12"
      ]
    },
    {
      "cell_type": "code",
      "source": [
        "print(num)"
      ],
      "metadata": {
        "colab": {
          "base_uri": "https://localhost:8080/"
        },
        "id": "ZDFyhYofVEuD",
        "outputId": "3457fadc-dc79-4052-e400-82867cb54b5a"
      },
      "execution_count": 3,
      "outputs": [
        {
          "output_type": "stream",
          "name": "stdout",
          "text": [
            "12\n"
          ]
        }
      ]
    },
    {
      "cell_type": "code",
      "source": [
        "num = 20"
      ],
      "metadata": {
        "id": "ctViXgPfVKY6"
      },
      "execution_count": 5,
      "outputs": []
    },
    {
      "cell_type": "code",
      "source": [
        "print(num)"
      ],
      "metadata": {
        "colab": {
          "base_uri": "https://localhost:8080/"
        },
        "id": "BLnzv5jSVRBf",
        "outputId": "707b0e1e-1da8-4cb1-ef0b-ba326d027226"
      },
      "execution_count": 6,
      "outputs": [
        {
          "output_type": "stream",
          "name": "stdout",
          "text": [
            "20\n"
          ]
        }
      ]
    },
    {
      "cell_type": "code",
      "source": [
        "# text data is referred to as string value\n",
        "text = \"I am learning python\""
      ],
      "metadata": {
        "id": "eCP0jszPVT82"
      },
      "execution_count": 7,
      "outputs": []
    },
    {
      "cell_type": "code",
      "source": [
        "print(text)"
      ],
      "metadata": {
        "colab": {
          "base_uri": "https://localhost:8080/"
        },
        "id": "adT2UAh5VrqG",
        "outputId": "dc54f059-19e1-4b24-9110-f01923e2137d"
      },
      "execution_count": 8,
      "outputs": [
        {
          "output_type": "stream",
          "name": "stdout",
          "text": [
            "I am learning python\n"
          ]
        }
      ]
    },
    {
      "cell_type": "code",
      "source": [
        "# decimal,floating point numbers ,floats\n",
        "temp = 28.6"
      ],
      "metadata": {
        "id": "Z_E8oMOGVt_A"
      },
      "execution_count": 9,
      "outputs": []
    },
    {
      "cell_type": "code",
      "source": [
        "print(temp)"
      ],
      "metadata": {
        "colab": {
          "base_uri": "https://localhost:8080/"
        },
        "id": "Lpj74S4kWC7o",
        "outputId": "69f0b88e-cb0b-4282-b2dd-20440c41dd81"
      },
      "execution_count": 10,
      "outputs": [
        {
          "output_type": "stream",
          "name": "stdout",
          "text": [
            "28.6\n"
          ]
        }
      ]
    },
    {
      "cell_type": "code",
      "source": [
        "type(temp)"
      ],
      "metadata": {
        "colab": {
          "base_uri": "https://localhost:8080/"
        },
        "id": "WPXRj47rWHko",
        "outputId": "f0db82f0-a0d9-4903-928a-2ffc40c957ad"
      },
      "execution_count": 11,
      "outputs": [
        {
          "output_type": "execute_result",
          "data": {
            "text/plain": [
              "float"
            ]
          },
          "metadata": {},
          "execution_count": 11
        }
      ]
    },
    {
      "cell_type": "code",
      "source": [
        "type(text)"
      ],
      "metadata": {
        "colab": {
          "base_uri": "https://localhost:8080/"
        },
        "id": "HLlG3pcmWMLS",
        "outputId": "7e525448-ad9d-4387-c2c6-49ba94af2a45"
      },
      "execution_count": 12,
      "outputs": [
        {
          "output_type": "execute_result",
          "data": {
            "text/plain": [
              "str"
            ]
          },
          "metadata": {},
          "execution_count": 12
        }
      ]
    },
    {
      "cell_type": "code",
      "source": [
        "type(num)"
      ],
      "metadata": {
        "colab": {
          "base_uri": "https://localhost:8080/"
        },
        "id": "Y9qHgkZQWQMf",
        "outputId": "7654973a-8086-4651-ebb4-8d34ebeba934"
      },
      "execution_count": 13,
      "outputs": [
        {
          "output_type": "execute_result",
          "data": {
            "text/plain": [
              "int"
            ]
          },
          "metadata": {},
          "execution_count": 13
        }
      ]
    },
    {
      "cell_type": "code",
      "source": [
        "# python is a dynamically-typed lang\n",
        "num = \"some text\""
      ],
      "metadata": {
        "id": "HtHsUkNgWgO0"
      },
      "execution_count": 14,
      "outputs": []
    },
    {
      "cell_type": "code",
      "source": [
        "print(num)"
      ],
      "metadata": {
        "colab": {
          "base_uri": "https://localhost:8080/"
        },
        "id": "KwmH7IujW9_w",
        "outputId": "8a05223d-c0d5-424d-892f-390b2e2abca6"
      },
      "execution_count": 15,
      "outputs": [
        {
          "output_type": "stream",
          "name": "stdout",
          "text": [
            "some text\n"
          ]
        }
      ]
    },
    {
      "cell_type": "code",
      "source": [
        "type(num)"
      ],
      "metadata": {
        "colab": {
          "base_uri": "https://localhost:8080/"
        },
        "id": "KmLtMxQ2W_9s",
        "outputId": "4f9486e9-be9b-41a9-c276-6b0fe792a2be"
      },
      "execution_count": 16,
      "outputs": [
        {
          "output_type": "execute_result",
          "data": {
            "text/plain": [
              "str"
            ]
          },
          "metadata": {},
          "execution_count": 16
        }
      ]
    },
    {
      "cell_type": "code",
      "source": [
        "# Operations\n"
      ],
      "metadata": {
        "id": "x5X-sr-SXDJ1"
      },
      "execution_count": 17,
      "outputs": []
    },
    {
      "cell_type": "code",
      "source": [
        "2 + 3.4"
      ],
      "metadata": {
        "colab": {
          "base_uri": "https://localhost:8080/"
        },
        "id": "obit6hPdXbZX",
        "outputId": "0deac212-0079-4388-caf3-113e7dac19f9"
      },
      "execution_count": 18,
      "outputs": [
        {
          "output_type": "execute_result",
          "data": {
            "text/plain": [
              "5.4"
            ]
          },
          "metadata": {},
          "execution_count": 18
        }
      ]
    },
    {
      "cell_type": "code",
      "source": [
        "2 * 4"
      ],
      "metadata": {
        "colab": {
          "base_uri": "https://localhost:8080/"
        },
        "id": "voX9zsagXhtd",
        "outputId": "909c455f-9a72-47bf-86c4-a122c3e470e2"
      },
      "execution_count": 19,
      "outputs": [
        {
          "output_type": "execute_result",
          "data": {
            "text/plain": [
              "8"
            ]
          },
          "metadata": {},
          "execution_count": 19
        }
      ]
    },
    {
      "cell_type": "code",
      "source": [
        "8 / 4.9"
      ],
      "metadata": {
        "colab": {
          "base_uri": "https://localhost:8080/"
        },
        "id": "dPtEcg3oXk-q",
        "outputId": "2bbaeb4b-1d81-4ba9-91e2-663feeeeac00"
      },
      "execution_count": 20,
      "outputs": [
        {
          "output_type": "execute_result",
          "data": {
            "text/plain": [
              "1.6326530612244896"
            ]
          },
          "metadata": {},
          "execution_count": 20
        }
      ]
    },
    {
      "cell_type": "code",
      "source": [
        "# using + with string\n",
        "str1 = \"Hello\"\n",
        "str2 = \"World\""
      ],
      "metadata": {
        "id": "BL9-WDuSXpp6"
      },
      "execution_count": 22,
      "outputs": []
    },
    {
      "cell_type": "code",
      "source": [
        "# \"Hello\" + \"World\"\n",
        "str1 + str2"
      ],
      "metadata": {
        "colab": {
          "base_uri": "https://localhost:8080/",
          "height": 35
        },
        "id": "XRN3DiGVYWMZ",
        "outputId": "6f5eef5d-9349-4847-a16a-ca8bc06b9de3"
      },
      "execution_count": 23,
      "outputs": [
        {
          "output_type": "execute_result",
          "data": {
            "text/plain": [
              "'HelloWorld'"
            ],
            "application/vnd.google.colaboratory.intrinsic+json": {
              "type": "string"
            }
          },
          "metadata": {},
          "execution_count": 23
        }
      ]
    },
    {
      "cell_type": "code",
      "source": [
        "# can i use + with a number and a string?\n",
        "14 + str"
      ],
      "metadata": {
        "id": "VHMeY39BZaC1"
      },
      "execution_count": null,
      "outputs": []
    },
    {
      "cell_type": "code",
      "source": [
        "#boolean type\n",
        "# the result/outcomes of a logical statement\n",
        "print(2 > 5)"
      ],
      "metadata": {
        "colab": {
          "base_uri": "https://localhost:8080/"
        },
        "id": "UnWbOFa_ZcFR",
        "outputId": "c400aea7-39d8-48ce-e334-b3d58ec488d1"
      },
      "execution_count": 25,
      "outputs": [
        {
          "output_type": "stream",
          "name": "stdout",
          "text": [
            "False\n"
          ]
        }
      ]
    },
    {
      "cell_type": "code",
      "source": [
        "# verify the value in temp\n",
        "#== is called the comparsion operator\n",
        "temp != 30.2"
      ],
      "metadata": {
        "colab": {
          "base_uri": "https://localhost:8080/"
        },
        "id": "xtJWyeG4ZzBG",
        "outputId": "47e18640-8968-49d8-9628-ed3535859b6c"
      },
      "execution_count": 27,
      "outputs": [
        {
          "output_type": "execute_result",
          "data": {
            "text/plain": [
              "True"
            ]
          },
          "metadata": {},
          "execution_count": 27
        }
      ]
    },
    {
      "cell_type": "code",
      "source": [
        "# < , >= ,<=, !="
      ],
      "metadata": {
        "id": "hL8BX1lvaSGk"
      },
      "execution_count": 28,
      "outputs": []
    },
    {
      "cell_type": "code",
      "source": [
        "# Exploration  you should try using logical operators with other data types"
      ],
      "metadata": {
        "id": "8rcTzobKa1SE"
      },
      "execution_count": null,
      "outputs": []
    },
    {
      "cell_type": "code",
      "source": [
        "# password validtor\n",
        "# we want devise a simple algo to verfy whether the given password is correct\n",
        "# for password we can use the str type"
      ],
      "metadata": {
        "id": "IE-xHGTMbHpT"
      },
      "execution_count": null,
      "outputs": []
    },
    {
      "cell_type": "code",
      "source": [
        "# set the password\n",
        "set_password = \"pass123\""
      ],
      "metadata": {
        "id": "1eJjMw54bled"
      },
      "execution_count": 29,
      "outputs": []
    },
    {
      "cell_type": "code",
      "source": [
        "set_password = input(\"\")"
      ],
      "metadata": {
        "colab": {
          "base_uri": "https://localhost:8080/"
        },
        "id": "Vlwrbe-yb1VM",
        "outputId": "e6d8a3ff-6123-4ded-b91a-e8f460ce8846"
      },
      "execution_count": 32,
      "outputs": [
        {
          "name": "stdout",
          "output_type": "stream",
          "text": [
            "pass123\n"
          ]
        }
      ]
    },
    {
      "cell_type": "code",
      "source": [
        "print(set_password)"
      ],
      "metadata": {
        "colab": {
          "base_uri": "https://localhost:8080/"
        },
        "id": "_gkuZMbAb-AY",
        "outputId": "ee3e1ebf-f6f0-441b-91dd-950d9706eba9"
      },
      "execution_count": 33,
      "outputs": [
        {
          "output_type": "stream",
          "name": "stdout",
          "text": [
            "pass123\n"
          ]
        }
      ]
    },
    {
      "cell_type": "code",
      "source": [
        "# ask the user for password to unlock the phone\n",
        "user_password = input()"
      ],
      "metadata": {
        "colab": {
          "base_uri": "https://localhost:8080/"
        },
        "id": "hEQ4Bqr8dIWB",
        "outputId": "09e7292c-4bef-438f-fd51-b913fbba322e"
      },
      "execution_count": 49,
      "outputs": [
        {
          "name": "stdout",
          "output_type": "stream",
          "text": [
            "pass123\n"
          ]
        }
      ]
    },
    {
      "cell_type": "code",
      "source": [
        "# use comparsion operator ==\n",
        "set_password  == user_password"
      ],
      "metadata": {
        "colab": {
          "base_uri": "https://localhost:8080/"
        },
        "id": "x7e1BKzHddXp",
        "outputId": "eee3ac18-0a30-4d24-a843-932f1264b77c"
      },
      "execution_count": 37,
      "outputs": [
        {
          "output_type": "execute_result",
          "data": {
            "text/plain": [
              "True"
            ]
          },
          "metadata": {},
          "execution_count": 37
        }
      ]
    },
    {
      "cell_type": "code",
      "source": [
        "# we want to print some message based on wheather the password is correct or not\n",
        "if set_password == user_password:\n",
        "  print(\"unlock successful\")\n",
        "else:\n",
        " print(\"unlock unsuccessful\")"
      ],
      "metadata": {
        "colab": {
          "base_uri": "https://localhost:8080/"
        },
        "id": "VzKIE3RReeS_",
        "outputId": "c0b14908-07f5-4d9d-afb3-7a95404ba0ec"
      },
      "execution_count": 50,
      "outputs": [
        {
          "output_type": "stream",
          "name": "stdout",
          "text": [
            "unlock successful\n"
          ]
        }
      ]
    },
    {
      "cell_type": "code",
      "source": [
        ""
      ],
      "metadata": {
        "id": "ZD7E2AnUfudX"
      },
      "execution_count": 40,
      "outputs": []
    }
  ]
}